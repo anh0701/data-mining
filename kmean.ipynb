{
  "nbformat": 4,
  "nbformat_minor": 0,
  "metadata": {
    "colab": {
      "provenance": []
    },
    "kernelspec": {
      "name": "python3",
      "display_name": "Python 3"
    },
    "language_info": {
      "name": "python"
    }
  },
  "cells": [
    {
      "cell_type": "code",
      "execution_count": null,
      "metadata": {
        "colab": {
          "base_uri": "https://localhost:8080/"
        },
        "id": "jfJRMd8KMjz5",
        "outputId": "f8b08a72-a53f-46b4-cae4-a8b2b5a033cf"
      },
      "outputs": [
        {
          "output_type": "stream",
          "name": "stdout",
          "text": [
            "Kết quả phân cụm:\n",
            "[1, 2] thuộc cụm 0\n",
            "[2, 2] thuộc cụm 0\n",
            "[3, 4] thuộc cụm 1\n",
            "[4, 4] thuộc cụm 1\n",
            "[4, 5] thuộc cụm 1\n",
            "[3, 5] thuộc cụm 1\n",
            "Trọng tâm cụm:\n",
            "Trọng tâm cụm 0 là: [1.5 2. ]\n",
            "Trọng tâm cụm 1 là: [3.5 4.5]\n",
            "Giá trị hàm lỗi E = 2.5\n"
          ]
        }
      ],
      "source": [
        "from sklearn.cluster import KMeans\n",
        "#--- Đọc dữ liệu từ tệp ---\n",
        "D=[]\n",
        "with open('/input.txt') as f:\n",
        "    for line in f:\n",
        "        row=[eval(s) for s in line.strip().split()]\n",
        "        D.append(row)\n",
        "#--- Phân cụm với giải thuật KMeans ---\n",
        "model=KMeans(n_clusters=2,init='random',n_init=5)\n",
        "model.fit(D)\n",
        "#--- Hiển thị kết quả ---\n",
        "L=model.labels_\n",
        "i=0\n",
        "print('Kết quả phân cụm:')\n",
        "for Xi in D:\n",
        "    print(f'{Xi} thuộc cụm {L[i]}')\n",
        "    i=i+1\n",
        "print('Trọng tâm cụm:')\n",
        "i=0\n",
        "for c in model.cluster_centers_:\n",
        "   print(f'Trọng tâm cụm {i} là: {c}')\n",
        "   i=i+1\n",
        "print(f'Giá trị hàm lỗi E = {model.inertia_}')\n",
        "#--- Ghi dữ liệu vào tệp ---\n",
        "with open('/output.txt','w') as f:\n",
        "    L=model.labels_\n",
        "    i=0\n",
        "    for Xi in D:\n",
        "        f.write(f'{Xi} belongs to cluster {L[i]}\\n')\n",
        "        i=i+1\n",
        "    i=0\n",
        "    for c in model.cluster_centers_:\n",
        "        f.write(f'The center of cluster {i} is {c}\\n')\n",
        "        i=i+1\n",
        "    f.write(f'E = {model.inertia_}')"
      ]
    }
  ]
}