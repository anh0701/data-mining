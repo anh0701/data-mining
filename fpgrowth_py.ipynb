{
  "nbformat": 4,
  "nbformat_minor": 0,
  "metadata": {
    "colab": {
      "provenance": []
    },
    "kernelspec": {
      "name": "python3",
      "display_name": "Python 3"
    },
    "language_info": {
      "name": "python"
    }
  },
  "cells": [
    {
      "cell_type": "code",
      "execution_count": null,
      "metadata": {
        "id": "Hx1NFhXXZtT8"
      },
      "outputs": [],
      "source": [
        "!pip install fpgrowth-py\n",
        "\n",
        "from fpgrowth_py import fpgrowth\n",
        "with open('./input.txt') as f:\n",
        "  dataset = []\n",
        "  for line in f:\n",
        "    dataset.append(line.strip().split(','))\n",
        "min_sup = eval(input('minsup = '))\n",
        "min_conf = eval(input('minconf = '))\n",
        "freqItemSets, rules = fpgrowth(dataset, min_sup, min_conf)\n",
        "print('cac tap pho bien: ')\n",
        "for itemset in freqItemSets:\n",
        "  print(itemset)\n",
        "print('cac luat ket hop manh: ')\n",
        "for r in rules:\n",
        "  print(r[0], '->', 'do tin cay: ', round(r[2], 2))\n",
        "\n",
        "with open('./output.txt', 'w') as f:\n",
        "  f.write('cac tap pho bien: ')\n",
        "  for freqItemSet in freqItemSets:\n",
        "    f.write(f'{freqItemSet}\\n')\n",
        "  for r in rules:\n",
        "    f.write(f'{r[0]} -> do tin cay: {round(r[2], 2)}\\n')\n"
      ]
    }
  ]
}