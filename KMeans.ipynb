{
  "nbformat": 4,
  "nbformat_minor": 0,
  "metadata": {
    "colab": {
      "provenance": []
    },
    "kernelspec": {
      "name": "python3",
      "display_name": "Python 3"
    },
    "language_info": {
      "name": "python"
    }
  },
  "cells": [
    {
      "cell_type": "code",
      "execution_count": null,
      "metadata": {
        "id": "eTRYzAMKbm27"
      },
      "outputs": [],
      "source": []
    },
    {
      "cell_type": "code",
      "source": [
        "!pip install scikit-learn\n",
        "from sklearn.cluster import KMeans\n",
        "\n",
        "with open('./input.txt') as f:\n",
        "  D = []\n",
        "  for line in f:\n",
        "    row = [eval(s) for s in line.strip().split()]\n",
        "    D.append(row)\n",
        "\n",
        "model = KMeans(n_clusters=2, init='random',n_init=1)\n",
        "model.fit(D)\n",
        "\n",
        "L = model.labels_\n",
        "i = 0\n",
        "for Xi in D:\n",
        "  print(f'{Xi} belongs to cluster {L[i]}')\n",
        "  i = i + 1\n",
        "\n",
        "j = 0\n",
        "for c in model.cluster_centers_:\n",
        "  print(f'Cluster centers {i}: {c}')\n",
        "  j = j + 1\n",
        "\n",
        "print(f'Inertia E = {model.inertia_}')\n",
        "\n",
        "with open('./output', 'w') as f:\n",
        "  L = model.labels_\n",
        "  i = 0\n",
        "  for Xi in D:\n",
        "    f.write(f'{Xi} belongs to cluster {L[i]}\\n')\n",
        "    i = i + 1\n",
        "\n",
        "  j = 0\n",
        "  for c in model.cluster_centers_:\n",
        "    f.write(f'Cluster centers {i}: {c}\\n')\n",
        "    j = j + 1\n",
        "\n",
        "  f.write(f'Inertia E = {model.inertia_}\\n')"
      ],
      "metadata": {
        "id": "Lr4_cAUZa3oe"
      },
      "execution_count": null,
      "outputs": []
    }
  ]
}