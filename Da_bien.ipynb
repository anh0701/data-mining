{
  "nbformat": 4,
  "nbformat_minor": 0,
  "metadata": {
    "colab": {
      "provenance": []
    },
    "kernelspec": {
      "name": "python3",
      "display_name": "Python 3"
    },
    "language_info": {
      "name": "python"
    }
  },
  "cells": [
    {
      "cell_type": "code",
      "source": [
        "!pip install scikit-learn"
      ],
      "metadata": {
        "id": "WbTo70wg28Fb"
      },
      "execution_count": null,
      "outputs": []
    },
    {
      "cell_type": "code",
      "execution_count": null,
      "metadata": {
        "colab": {
          "base_uri": "https://localhost:8080/"
        },
        "id": "w10JTwkI2ojH",
        "outputId": "ac080446-de2e-4406-89f4-950bb9c42196"
      },
      "outputs": [
        {
          "output_type": "stream",
          "name": "stdout",
          "text": [
            "Cac he so cua da thuc bac 2 la:\n",
            "1, intercept:  [1.]\n",
            "2. coef:  [[-2.  1.]]\n",
            "he so r^2:  1.0\n",
            "cac gia tri du doan voi Y: \n",
            "[[36.]\n",
            " [49.]\n",
            " [64.]]\n"
          ]
        }
      ],
      "source": [
        "from sklearn.linear_model import LinearRegression\n",
        "from sklearn.preprocessing import PolynomialFeatures\n",
        "\n",
        "X = [[1], [2], [3], [4], [5]]\n",
        "Y = [[0], [1], [4], [9], [16]]\n",
        "\n",
        "poly_model = PolynomialFeatures(degree=2, include_bias=False)\n",
        "X0 = poly_model.fit_transform(X)\n",
        "\n",
        "model = LinearRegression().fit(X0, Y)\n",
        "print('Cac he so cua da thuc bac 2 la:')\n",
        "print('1, intercept: ', model.intercept_)\n",
        "print('2. coef: ', model.coef_)\n",
        "print('he so r^2: ', model.score(X0, Y))\n",
        "\n",
        "Xp = [[7], [8], [9]]\n",
        "Xp0 = poly_model.fit_transform(Xp)\n",
        "print('cac gia tri du doan voi Y: ')\n",
        "print(model.predict(Xp0))\n"
      ]
    }
  ]
}