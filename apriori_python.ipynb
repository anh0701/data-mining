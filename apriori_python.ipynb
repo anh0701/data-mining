{
  "nbformat": 4,
  "nbformat_minor": 0,
  "metadata": {
    "colab": {
      "provenance": []
    },
    "kernelspec": {
      "name": "python3",
      "display_name": "Python 3"
    },
    "language_info": {
      "name": "python"
    }
  },
  "cells": [
    {
      "cell_type": "code",
      "execution_count": null,
      "metadata": {
        "id": "XMqQQ5DdbKBK"
      },
      "outputs": [],
      "source": []
    },
    {
      "cell_type": "code",
      "source": [
        "!pip install apriori-python\n",
        "\n",
        "from apriori_python import apriori\n",
        "with open('./input.txt') as f:\n",
        "  dataset = []\n",
        "  for line in f:\n",
        "    dataset.append(line.strip().split(','))\n",
        "# print(dataset) read file success\n",
        "min_sup = eval(input('minsup = '))\n",
        "min_conf = eval(input('minconf = '))\n",
        "\n",
        "freqItemSets, rules = apriori(dataset, min_sup, min_conf)\n",
        "for k, itemSets in freqItemSets.items():\n",
        "  print(f'Cac tap pho bien do dai = {k}')\n",
        "  for itemSet in itemSets:\n",
        "    print(set(itemSet))\n",
        "\n",
        "for r in rules:\n",
        "  print(r[0], '->', r[1], 'Do tin cay: ', round(r[2], 2))"
      ],
      "metadata": {
        "id": "DDeIG7qsaTaQ"
      },
      "execution_count": null,
      "outputs": []
    }
  ]
}