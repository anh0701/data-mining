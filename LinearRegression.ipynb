{
  "nbformat": 4,
  "nbformat_minor": 0,
  "metadata": {
    "colab": {
      "provenance": []
    },
    "kernelspec": {
      "name": "python3",
      "display_name": "Python 3"
    },
    "language_info": {
      "name": "python"
    }
  },
  "cells": [
    {
      "cell_type": "code",
      "execution_count": null,
      "metadata": {
        "colab": {
          "base_uri": "https://localhost:8080/"
        },
        "id": "OkmleFjuRHPt",
        "outputId": "e33eb7f8-4a0f-48d2-e2c8-04c62520f179"
      },
      "outputs": [
        {
          "output_type": "stream",
          "name": "stdout",
          "text": [
            "Phương trình hồi quy là:\n",
            "Y = 1.0 + 2.0*X1 + 1.0*X2\n",
            "Hệ số tương quan R^2 =1.0\n",
            "Kết quả dự đoán:\n",
            "X0 = [5, 1] có Y = 12.0\n",
            "X1 = [2, 3] có Y = 8.0\n",
            "X2 = [0, 2] có Y = 3.0\n"
          ]
        }
      ],
      "source": [
        "from sklearn.linear_model import LinearRegression\n",
        "# X=[[0,1],[2,0],[1,0],[1,1],[0,0],[3,2]]\n",
        "# Y=[2,5,3,4,1,9]\n",
        "X = []\n",
        "Y = []\n",
        "with open('/input.txt') as f:\n",
        "  for line in f:\n",
        "    row=[eval(s) for s in line.strip().split()]\n",
        "    # print(row)\n",
        "    X.append(row[0:2])\n",
        "    Y.append(row[2])\n",
        "\n",
        "# print(Y)\n",
        "\n",
        "model=LinearRegression().fit(X,Y)\n",
        "print('Phương trình hồi quy là:')\n",
        "print(f'Y = {round(model.intercept_,1)} + {round(model.coef_[0],1)}*X1 + {round(model.coef_[1],1)}*X2')\n",
        "print(f'Hệ số tương quan R^2 ={model.score(X,Y)}')\n",
        "Xd =[[5,1],[2,3],[0,2]]\n",
        "Yd=model.predict(Xd)\n",
        "print('Kết quả dự đoán:')\n",
        "i=0\n",
        "for xi in Xd:\n",
        "   print(f'X{i} = {xi} có Y = {round(Yd[i],1)}')\n",
        "   i=i+1"
      ]
    }
  ]
}