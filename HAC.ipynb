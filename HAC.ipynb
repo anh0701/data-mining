{
  "nbformat": 4,
  "nbformat_minor": 0,
  "metadata": {
    "colab": {
      "provenance": []
    },
    "kernelspec": {
      "name": "python3",
      "display_name": "Python 3"
    },
    "language_info": {
      "name": "python"
    }
  },
  "cells": [
    {
      "cell_type": "code",
      "execution_count": null,
      "metadata": {
        "colab": {
          "base_uri": "https://localhost:8080/"
        },
        "id": "SdbHgwAz6r9f",
        "outputId": "2502ca73-1e06-449e-ef81-289349f1a6ab"
      },
      "outputs": [
        {
          "output_type": "stream",
          "name": "stdout",
          "text": [
            "Nhãn phân lớp: [0 0 0 1 1 0]\n",
            "Số lượng nút lá: 6\n"
          ]
        }
      ],
      "source": [
        "from sklearn.cluster import AgglomerativeClustering\n",
        "model=AgglomerativeClustering(n_clusters=2,metric='manhattan'\n",
        ",linkage='single')\n",
        "X=[]\n",
        "with open('/input.txt') as f:\n",
        "  for line in f:\n",
        "    row = [eval(s) for s in line.strip().split()]\n",
        "    X.append(row)\n",
        "model.fit(X)\n",
        "print('Nhãn phân lớp:',model.labels_)\n",
        "print('Số lượng nút lá:',model.n_leaves_)\n",
        "with open('/output.txt', 'w') as f:\n",
        "  f.write(f'Nhan phan lop: {model.labels_}\\n')\n",
        "  f.write(f'so luong nut la: {model.n_leaves_}')"
      ]
    }
  ]
}